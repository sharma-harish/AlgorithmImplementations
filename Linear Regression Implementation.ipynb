{
 "cells": [
  {
   "cell_type": "markdown",
   "metadata": {},
   "source": [
    "Linear regression is used for finding linear relationship between target and one or more predictors. The core idea is to obtain a line that best fits the data. The best fit line is the one for which total prediction error (all data points) are as small as possible. Error is the distance between the point to the regression line."
   ]
  },
  {
   "cell_type": "markdown",
   "metadata": {},
   "source": [
    "The Mathematics behind Linear Regression:\n",
    "\\begin{equation*}\n",
    "\\mathbf{X} =  \\begin{vmatrix}\n",
    "1 & .. & X_1m \\\\\n",
    "1 & .. & . \\\\\n",
    "1 & .. & X_nm \\\\\n",
    "\\end{vmatrix}\n",
    "\\end{equation*}\n",
    "\n",
    "\\begin{equation*}\n",
    "\\mathbf{\\theta} =  \\begin{vmatrix}\n",
    "1 & .. & \\theta_n \\\\\n",
    "\\end{vmatrix}\n",
    "\\end{equation*}\n",
    "\n",
    "\\begin{align}\n",
    "\\dot{Y} & = X\\theta \\\\\n",
    "\\ Cost & = 1/2n\\sum((\\dot{Y} - Y)^2) \\\\\n",
    "\\ \\theta_j & = \\theta_j - \\alpha/m\\sum((\\dot{Y} - Y))*X \\\\\n",
    "\\end{align}"
   ]
  },
  {
   "cell_type": "code",
   "execution_count": 74,
   "metadata": {},
   "outputs": [],
   "source": [
    "import numpy as np\n",
    "import matplotlib.pyplot as plt"
   ]
  },
  {
   "cell_type": "code",
   "execution_count": 79,
   "metadata": {},
   "outputs": [],
   "source": [
    "class LinearRegressionImplemented:\n",
    "    def __init__(self):\n",
    "        self.theta = None\n",
    "        self.error = np.float('inf')\n",
    "        self.costs = np.array([])\n",
    "    \n",
    "    def fit(self, X, y, alpha, iterations = 100, iter_result = False):\n",
    "        X = np.hstack((np.ones((X.shape[0], 1)), X)) #Appending 1 to get the intercept value\n",
    "        r, c = X.shape\n",
    "        #initial values of parameters\n",
    "        theta = np.ones((c, 1)) # initializing theta as a vector of ones.\n",
    "        for i in range(iterations):\n",
    "            y_pred = X @ theta # Calculating the predictions according to the first formula.\n",
    "            c = self.cost(y_pred, y)\n",
    "            if iter_result: # if iter_result is True, the costs for each iteration will be printed.\n",
    "                print('Iteration ' + str(i) + ': ' + str(c))\n",
    "            # adding cost of each iteration to costs variable so that it can be used to plot the cost - iterations graph.\n",
    "            self.costs = np.append(self.costs, c)\n",
    "            # updates the theta and error only if cost of current iteration is lower than the saved cost of the model.\n",
    "            if (c < self.error):\n",
    "                self.error = c\n",
    "                self.theta = theta\n",
    "            theta = self.gradientDescent(X, y_pred, y, theta, alpha)\n",
    "            \n",
    "    def cost(self, y_pred, y):\n",
    "        '''Implementing second formula'''\n",
    "        diff = (y_pred - y) ** 2\n",
    "        cost = sum(diff) / 2 * len(diff)\n",
    "        return cost[0]\n",
    "    \n",
    "    def gradientDescent(self, X, y_pred, y, theta, alpha):\n",
    "        '''Implementing third formula'''\n",
    "        diff = X.T @ (y_pred - y)\n",
    "        theta = theta - (alpha / y.shape[0]) * diff\n",
    "        return theta\n",
    "    \n",
    "    def parameters(self):\n",
    "        '''Returns parameters of trained model along with error'''\n",
    "        return self.error, self.theta\n",
    "    \n",
    "    def plotCost(self):\n",
    "        plt.plot(self.costs)\n",
    "        plt.title(\"Cost vs. Iterations\")\n",
    "    \n",
    "    def predict(self, X):\n",
    "        '''Predicts y for the input'''\n",
    "        X = np.hstack((np.ones((X.shape[0], 1)), X))\n",
    "        return X @ self.theta"
   ]
  },
  {
   "cell_type": "code",
   "execution_count": 87,
   "metadata": {},
   "outputs": [
    {
     "name": "stdout",
     "output_type": "stream",
     "text": [
      "Cost: 28.464270685823987\n",
      "Theta: \n",
      "[[1.08242727]\n",
      " [1.19424593]]\n",
      "Predicted Value: [[7.05365692]]\n"
     ]
    },
    {
     "data": {
      "image/png": "[encoded data removed]",
      "text/plain": [
       "<Figure size 432x288 with 1 Axes>"
      ]
     },
     "metadata": {
      "needs_background": "light"
     },
     "output_type": "display_data"
    }
   ],
   "source": [
    "x = np.array([0, 1, 2, 3, 4, 5, 6, 7, 8, 9]).reshape(-1,1)\n",
    "y = np.array([1, 3, 2, 5, 7, 8, 8, 9, 10, 12]).reshape(-1,1)\n",
    "z = LinearRegressionImplemented()\n",
    "z.fit(x, y, 0.001, iter_result = False, iterations = 1000)\n",
    "a,v = z.parameters()\n",
    "z.plotCost()\n",
    "\n",
    "print('Cost: ' + str(a))\n",
    "print('Theta: \\n'  + str(v))\n",
    "print('Predicted Value: ' + str(z.predict(np.array([5]).reshape(-1,1))))"
   ]
  },
  {
   "cell_type": "code",
   "execution_count": null,
   "metadata": {},
   "outputs": [],
   "source": []
  }
 ],
 "metadata": {
  "kernelspec": {
   "display_name": "Python 3",
   "language": "python",
   "name": "python3"
  },
  "language_info": {
   "codemirror_mode": {
    "name": "ipython",
    "version": 3
   },
   "file_extension": ".py",
   "mimetype": "text/x-python",
   "name": "python",
   "nbconvert_exporter": "python",
   "pygments_lexer": "ipython3",
   "version": "3.7.4"
  }
 },
 "nbformat": 4,
 "nbformat_minor": 2
}
